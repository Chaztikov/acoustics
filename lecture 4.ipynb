{
 "cells": [
  {
   "cell_type": "markdown",
   "metadata": {
    "donotlatex": true,
    "hide_input": false
   },
   "source": [
    "$$\\newcommand{\\fudm}[2]{\\frac{\\mathrm{D} #1}{\\mathrm{D} #2}}\n",
    "\\newcommand{\\pad}[2]{\\frac{\\partial #1}{\\partial #2}}\n",
    "\\newcommand{\\ppad}[2]{\\frac{\\partial^2 #1}{\\partial #2^2}}\n",
    "\\newcommand{\\ppadd}[3]{\\frac{\\partial^2 #1}{\\partial #2 \\partial #3}}\n",
    "\\newcommand{\\nnabla}{\\nabla^2}\n",
    "\\newcommand{\\eps}{\\epsilon}\n",
    "\\newcommand{\\vdetail}[1]{\\vb{#1}=\\begin{pmatrix}#1_1\\\\#1_2\\\\#1_3\\end{pmatrix}}\n",
    "\\newcommand{\\vb}[1]{\\mathbf{#1}}\n",
    "\\newcommand{\\va}[1]{\\vec{#1}}\n",
    "\\newcommand{\\tb}[1]{\\underline{\\underline{\\mathbf{#1}}}}\n",
    "\\newcommand{\\fud}[2]{\\frac{\\mathrm{d} #1}{\\mathrm{d} #2}}$$"
   ]
  },
  {
   "cell_type": "markdown",
   "metadata": {
    "hide_input": true
   },
   "source": [
    "# Spherical Waves\n",
    "\n",
    "In spherical coordinates $(r,\\phi,\\theta)$ with \n",
    "\n",
    "\\begin{eqnarray}\n",
    "x&=&r \\sin \\theta \\cos \\phi\\\\\n",
    "y&=&r \\sin \\theta \\sin \\phi\\\\\n",
    "z&=&r \\cos \\theta\n",
    "\\end{eqnarray}\n",
    "\n",
    "the Laplacian operator is\n",
    "\n",
    "\\begin{equation}\n",
    "\\nabla^2=\\ppad{}{r} + \\frac{2}{r}\\pad{}{r} +\\frac{1}{r^2 \\sin \\theta}\\pad{}{\\theta}\\left(\\sin \\theta \\pad{}{\\theta}\\right) +\n",
    "\\frac{1}{r^2 \\sin^2 \\theta} \\ppad{}{\\phi} \n",
    "\\end{equation}\n",
    "\n",
    "If we assume spherical symmetry the the acoustic pressure is a function of $r$ only and the Laplacian simplifies to\n",
    "\n",
    "\\begin{equation}\n",
    "\\nabla^2=\\ppad{}{r}+\\frac{2}{r}\\pad{}{r}\\quad .\n",
    "\\end{equation}\n",
    "\n",
    "Thus the wave equation becomes\n",
    "\n",
    "\\begin{equation}\n",
    "\\ppad{p}{r}+\\frac{2}{r}\\pad{p}{r}=\\frac{1}{c^2}\\ppad{p}{t}\\quad .\\tag{4.1}\n",
    "\\end{equation}\n",
    "\n",
    "We can rewrite Eq. (4.1) as\n",
    "\n",
    "\\begin{equation}\n",
    "\\ppad{(p r)}{r}=\\frac{1}{c^2}\\ppad{(r p)}{t}\\quad ,\n",
    "\\end{equation}\n",
    "\n",
    "which resembles a plane wave equation for the product of the variable $p$ and $r$. Thus the solution to this equation is\n",
    "\n",
    "\\begin{equation}\n",
    "p r = f_1(c t - r) + f_2 (c t +r)\n",
    "\\end{equation}\n",
    "\n",
    "or \n",
    "\n",
    "\\begin{equation}\n",
    "p = \\frac{1}{r} f_1(c t - r) + \\frac{1}{r} f_2 (c t +r)\\quad , \\tag{4.2}\n",
    "\\end{equation}\n",
    "\n",
    "for all $r>0$, the solution is not valid at $r=0$. Equation (4.2) is an outgoing and incoming wave where the amplitude is proportional to $1/r$. The incoming wave diverges at $r=0$. The reason why our equation becomes invalid is that the small amplitude limit is not valid anymore, nonlinearities build up and we need a better description which accounts for *finite amplitude effects*.\n",
    "\n",
    "\n"
   ]
  },
  {
   "cell_type": "code",
   "execution_count": 2,
   "metadata": {
    "hide_input": false,
    "scrolled": false
   },
   "outputs": [
    {
     "name": "stdout",
     "output_type": "stream",
     "text": [
      "Populating the interactive namespace from numpy and matplotlib\n"
     ]
    },
    {
     "name": "stderr",
     "output_type": "stream",
     "text": [
      "/Users/cdohl/anaconda2/lib/python2.7/site-packages/IPython/core/magics/pylab.py:161: UserWarning: pylab import has clobbered these variables: ['display']\n",
      "`%matplotlib` prevents importing * from pylab and numpy\n",
      "  \"\\n`%matplotlib` prevents importing * from pylab and numpy\"\n"
     ]
    },
    {
     "data": {
      "application/vnd.jupyter.widget-view+json": {
       "model_id": "41251e626e0a4ad0b28a3ee27c03e927",
       "version_major": 2,
       "version_minor": 0
      },
      "text/plain": [
       "VGFiKGNoaWxkcmVuPShCb3goY2hpbGRyZW49KEZsb2F0U2xpZGVyKHZhbHVlPTAuNSwgZGVzY3JpcHRpb249dSdXYXZlbGVuZ3RoJywgbWF4PTEuMCwgbWluPTAuMSksIEZsb2F0U2xpZGVyKHbigKY=\n"
      ]
     },
     "metadata": {},
     "output_type": "display_data"
    },
    {
     "data": {
      "application/vnd.jupyter.widget-view+json": {
       "model_id": "55a092dbb7d74cc0b5ec957eca4a1c42",
       "version_major": 2,
       "version_minor": 0
      },
      "text/plain": [
       "Button(description=u'Start Simulation', style=ButtonStyle())"
      ]
     },
     "metadata": {},
     "output_type": "display_data"
    }
   ],
   "source": [
    "%pylab inline\n",
    "import matplotlib.pyplot as plt #plotting\n",
    "import numpy as np #array functions\n",
    "import math as m\n",
    "from IPython import display #for continous display\n",
    "from ipywidgets import widgets #for the widgets\n",
    "pylab.rcParams['figure.figsize'] = (12, 8)\n",
    "pylab.rcParams['font.size'] = 15\n",
    "\n",
    "nimg=0\n",
    "\n",
    "def plotwave(u,time,r):\n",
    "    plt.figure(1)\n",
    "    plt.clf()\n",
    "    plt.plot(r,u)\n",
    "    plt.text(0.1,3.4,\"time {0:.5f}\".format(time)) #annotate the time\n",
    "    plt.xlabel(r\"r\")\n",
    "    plt.gca().set_ylim([-4,4])\n",
    "    display.clear_output(wait=True)\n",
    "    display.display(plt.gcf())\n",
    "        \n",
    "def solvewave(b):\n",
    "    tabs.visible=False\n",
    "    #computational domain\n",
    "    nx = 381\n",
    "    size=2. #size of the domain\n",
    "    #parameters of the wave\n",
    "    c = 5. #speed of sound\n",
    "    l=w_wavelength.value #wavelength\n",
    "    nu=c/l #frequency\n",
    "    omega=nu*2.*m.pi #angular frequency\n",
    "    duration=w_sourceduration.value/nu #duration of source\n",
    "    \n",
    "    #further variables\n",
    "    dx = size/(nx-1)\n",
    "    CFL=0.1 #CFL number <1\n",
    "    dt = CFL*dx/c \n",
    "    nt=int(w_simduration.value/dt) #number of time steps\n",
    "    if w_position.value=='Left':\n",
    "        sourcepos=1\n",
    "        ampl=100.\n",
    "    else:\n",
    "        sourcepos=int(nx/2)\n",
    "        ampl=1.\n",
    "    r=numpy.arange(dx,nx*dx,dx) #radius\n",
    "    \n",
    "    #every xx times over the total nt timesteps an output should be generated \n",
    "    output=map(int,list(numpy.linspace(1,nt,int(nt/50))))\n",
    "\n",
    "    u  = numpy.zeros(nx) #pressure at t\n",
    "    un = numpy.zeros(nx) #pressure at t-dt\n",
    "    unn= numpy.zeros(nx) #pressure at t-2*dt\n",
    "    C=c*c*dt*dt/dx/dx\n",
    "    \n",
    "    #Assign initial conditions, for a sin^2 wave\n",
    "    if w_source_type.value==\"Time Dependent\":\n",
    "        un[sourcepos]=0.    #amplitude is sin(omega*t) with t=0\n",
    "        unn[sourcepos]=1.*r[sourcepos]   #velocity  is cos(omega*t) with t=0\n",
    "    else: #or set it as an initial value\n",
    "        for xx in range(nx):\n",
    "            x=float(xx)*dx-size/2. #0 at the center\n",
    "            unn[xx]=(m.cos(2.*m.pi/l*x)**2)*float(abs(x)<(c*duration/2.))\n",
    "        for xx in range(1,nx-1): #calculate t=0 time step\n",
    "            un[xx] = unn[xx] - 0.5*C*(unn[xx+1]-2.*unn[xx]+unn[xx-1])\n",
    "    \n",
    "    #plt.figure(1, figsize=(8, 4), dpi=300)\n",
    "\n",
    "    for n in range(nt+1): ##loop across number of time steps\n",
    "        #this line computes the finite differences of the wave equation\n",
    "        u[1:-1]=2.*un[1:-1]-unn[1:-1]+C*(un[:-2]+un[2:]-2.*un[1:-1])\n",
    " \n",
    "        #Boundary conditions right\n",
    "        if w_boundary_r.value=='Open':\n",
    "            u[-1] = un[-1]-dt*c/dx*(un[-1]-un[-2]) \n",
    "        else:\n",
    "            u[-1] = u[-2]\n",
    "        #Boundary conditions right\n",
    "        u[0] = u[1]\n",
    "            \n",
    "        #pressure source\n",
    " \n",
    "        if w_source_type.value==\"Time Dependent\":\n",
    "            if float(n*dt<duration):\n",
    "                u[sourcepos]=ampl*m.sin(omega*n*dt)**2*float(n*dt<duration)*r[sourcepos]\n",
    "                \n",
    "        #save values for the time derivative \n",
    "        unn=un.copy() #n-1 time step\n",
    "        un=u.copy()   #n time step\n",
    "        \n",
    "        if (n in output):\n",
    "            plotwave(u[1:]/r,n*dt,r)\n",
    "            \n",
    "    #and plot the last figure    \n",
    "    #plotwave(u[1:]/r,n*dt,r)\n",
    "    tabs.visible=True\n",
    "    display.display(tabs)\n",
    "\n",
    "    display.display(w_start) \n",
    "\n",
    "#setup the graphical interface \n",
    "w_wavelength=widgets.FloatSlider(description=\"Wavelength\",value=.5,min=0.1,max=1)\n",
    "w_sourceduration=widgets.FloatSlider(description=\"Emission Duration in Periods\",value=.5,min=0.5,max=10)\n",
    "w_simduration=widgets.FloatSlider(description=\"Simulation Duration\",value=.2,min=0.1,max=5)\n",
    "w_position=widgets.RadioButtons(description=\"Source Position\",options=[\"Left\", \"Center\"],value=\"Center\")\n",
    "w_start=widgets.Button(description=\"Start Simulation\")\n",
    "w_start.on_click(solvewave)\n",
    "w_boundary_r=widgets.RadioButtons(description=\"Right Boundary\",options=[\"Reflective\", \"Open\"],value=\"Reflective\")\n",
    "w_source_type=widgets.RadioButtons(description=\"Type of Source\",options=[\"Time Dependent\", \"Inital Condition\"],value=\"Time Dependent\")\n",
    "\n",
    "page1=widgets.Box([w_wavelength,w_sourceduration,w_position,w_simduration])\n",
    "page2=widgets.Box([w_source_type])\n",
    "page3=widgets.Box([w_boundary_r])\n",
    "tabs = widgets.Tab(children=[page1, page2, page3])\n",
    "tabs.set_title(0, 'Wave')\n",
    "tabs.set_title(1, 'Source')\n",
    "tabs.set_title(2, 'Boundaries')\n",
    "display.display(tabs)\n",
    "\n",
    "display.display(w_start)    "
   ]
  },
  {
   "cell_type": "code",
   "execution_count": 5,
   "metadata": {
    "hide_input": true
   },
   "outputs": [
    {
     "data": {
      "text/html": [
       "<link href='http://fonts.googleapis.com/css?family=Fenix' rel='stylesheet' type='text/css'>\n",
       "<link href='http://fonts.googleapis.com/css?family=Alegreya+Sans:100,300,400,500,700,800,900,100italic,300italic,400italic,500italic,700italic,800italic,900italic' rel='stylesheet' type='text/css'>\n",
       "<link href='http://fonts.googleapis.com/css?family=Source+Code+Pro:300,400' rel='stylesheet' type='text/css'>\n",
       "<style>\n",
       "@font-face {\n",
       "font-family: \"Computer Modern\";\n",
       "src: url('http://mirrors.ctan.org/fonts/cm-unicode/fonts/otf/cmunss.otf');\n",
       "}\n",
       "div.cell{\n",
       "\twidth:900px;\n",
       "\tmargin-left:5% !important;\n",
       "\tmargin-right:auto;\n",
       "}\n",
       "div.YourWork{\n",
       "\tbackground-color: #FFCC66;\n",
       "}\n",
       "div.Detail{\n",
       "\tbackground-color: #DDEEDD;\n",
       "\tfont-size: 80%;\n",
       "\tborder: 1px solid black;\n",
       "\tpadding: 10px;\t\t\n",
       "}\n",
       "div.Figure{\n",
       "\tborder: 1px solid black;\n",
       "\tpadding: 10px;\n",
       "\ttext-align: center;\n",
       "\tmargin: 30px;\n",
       "}\n",
       "h1 {\n",
       "font-family: 'Alegreya Sans', sans-serif;\n",
       "}\n",
       "h2 {\n",
       "font-family: 'Fenix', serif;\n",
       "}\n",
       "h3{\n",
       "font-family: 'Fenix', serif;\n",
       "margin-top:12px;\n",
       "margin-bottom: 3px;\n",
       "}\n",
       "h4{\n",
       "font-family: 'Fenix', serif;\n",
       "}\n",
       "h5 {\n",
       "font-family: 'Alegreya Sans', sans-serif;\n",
       "}\n",
       "div.text_cell_render{\n",
       "font-family: 'Alegreya Sans',Computer Modern, \"Helvetica Neue\", Arial, Helvetica, Geneva, sans-serif;\n",
       "line-height: 135%;\n",
       "font-size: 140%;\n",
       "width:800px;\n",
       "margin-left:auto;\n",
       "margin-right:auto;\n",
       "}\n",
       ".CodeMirror{\n",
       "font-family: \"Source Code Pro\";\n",
       "font-size: 100%;\n",
       "}\n",
       ".rendered_html code{\n",
       "\tbackground-color: transparent;\t\n",
       "}\n",
       "/* .prompt{\n",
       "display: None;\n",
       "}*/\n",
       ".text_cell_render h1 {\n",
       "font-weight: 120;\n",
       "font-size: 30pt;\n",
       "line-height: 100%;\n",
       "color:#CD2305;\n",
       "margin-bottom: 0.5em;\n",
       "margin-top: 0.5em;\n",
       "display: block;\n",
       "}\n",
       ".text_cell_render h5 {\n",
       "font-weight: 300;\n",
       "font-size: 12pt;\n",
       "margin-bottom: 0.5em;\n",
       "margin-top: 0.5em;\n",
       "display: block;\n",
       "border-style: double;\n",
       "border-width: medium;\n",
       "border-color: black;\n",
       "background-color: #F0F0F0;\n",
       "text-align: center;\n",
       "}\n",
       ".warning{\n",
       "color: rgb( 240, 20, 20 )\n",
       "}\n",
       "</style>\n",
       "<script>\n",
       "MathJax.Hub.Config({\n",
       "TeX: {\n",
       "extensions: [\"AMSmath.js\"]\n",
       "},\n",
       "tex2jax: {\n",
       "inlineMath: [ ['$','$'], [\"\\\\(\",\"\\\\)\"] ],\n",
       "displayMath: [ ['$$','$$'], [\"\\\\[\",\"\\\\]\"] ]\n",
       "},\n",
       "displayAlign: 'center', // Change this to 'center' to center equations.\n",
       "\"HTML-CSS\": {\n",
       "styles: {'.MathJax_Display': {\"margin\": 4}}\n",
       "}\n",
       "});\n",
       "</script>"
      ],
      "text/plain": [
       "<IPython.core.display.HTML object>"
      ]
     },
     "execution_count": 5,
     "metadata": {},
     "output_type": "execute_result"
    }
   ],
   "source": [
    "from IPython.core.display import HTML\n",
    "def css_styling():\n",
    "    styles = open(\"styles/custom2.css\", \"r\").read()\n",
    "    return HTML(styles)\n",
    "css_styling()"
   ]
  }
 ],
 "metadata": {
  "kernelspec": {
   "display_name": "Python [default]",
   "language": "python",
   "name": "python2"
  },
  "language_info": {
   "codemirror_mode": {
    "name": "ipython",
    "version": 2
   },
   "file_extension": ".py",
   "mimetype": "text/x-python",
   "name": "python",
   "nbconvert_exporter": "python",
   "pygments_lexer": "ipython2",
   "version": "2.7.14"
  },
  "latex_metadata": {
   "affiliation": "SPMS/PAP, NTU, Singapore",
   "author": "Claus-Dieter Ohl",
   "title": "PH4606 - Lecture 4"
  },
  "widgets": {
   "state": {
    "a18b529dbdfe491985d65c4f9a269ee0": {
     "views": [
      {
       "cell_index": 2
      }
     ]
    },
    "a1a540f4761946ea93b4875073f75d4a": {
     "views": [
      {
       "cell_index": 2
      }
     ]
    },
    "a40911fa3e6c470e87c8eb51f799fa0d": {
     "views": [
      {
       "cell_index": 2
      }
     ]
    },
    "f8f761f341464a759ea77defd1c28922": {
     "views": [
      {
       "cell_index": 2
      }
     ]
    }
   },
   "version": "1.2.0"
  }
 },
 "nbformat": 4,
 "nbformat_minor": 1
}
