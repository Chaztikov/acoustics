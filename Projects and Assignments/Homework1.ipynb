{
 "cells": [
  {
   "cell_type": "markdown",
   "metadata": {},
   "source": [
    "# Homework 1: Analysis of a sound field\n",
    "\n",
    "Hand in time is latest the first day of the recess week (30.9.2019). Please send it to <b> claus-dieter.ohl@ovgu.de</b> via email.\n",
    " \n",
    "## Wave emitted by a transducer \n",
    "\n",
    "<img src=\"../homework/pic.png\" width=650> <p>\n",
    "<a id='fig1'><center> Figure 1 </center></a>\n",
    "    \n",
    "Figure 1 is the result of the simulation of an acoustic wave emitted from a transducer. The wave is traveling\n",
    "through water, x and y are in meters. The geometry is axisymmetric, i.e. it is a\n",
    "cross-section of the acoustic field emitted from a circular transducer located at y=0.\n",
    "\n",
    "<img src=\"../homework/pic2.png\" width=650> <p>\n",
    "<a id='fig2'><center> Figure 2 </center></a>\n",
    "\n",
    "Figure 2 plots the axial pressure amplitude $P_\\mathrm{ax}$ in Pascal. The horizontal units is meters.\n",
    "\n",
    "1. Find the frequency of the wave from Figure 1? Estimate the Rayleigh length just from looking at figure 1.\n",
    "2. Estimate the size of the transducer in figure 1.\n",
    "3. Using the previous answer calculate and plot the acoustic pressure along the vertical axis x=0 and compare with figure 2.\n",
    "4. Discuss your calculated graph with figure 1. This should include a comparison with and argument why or why not you see differences. Relate the findings with the lecture material.\n"
   ]
  },
  {
   "cell_type": "code",
   "execution_count": null,
   "metadata": {},
   "outputs": [],
   "source": []
  }
 ],
 "metadata": {
  "kernelspec": {
   "display_name": "Python [default]",
   "language": "python",
   "name": "python2"
  },
  "language_info": {
   "codemirror_mode": {
    "name": "ipython",
    "version": 2
   },
   "file_extension": ".py",
   "mimetype": "text/x-python",
   "name": "python",
   "nbconvert_exporter": "python",
   "pygments_lexer": "ipython2",
   "version": "2.7.14"
  }
 },
 "nbformat": 4,
 "nbformat_minor": 2
}
