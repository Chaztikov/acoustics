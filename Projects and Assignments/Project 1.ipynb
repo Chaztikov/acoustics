{
 "cells": [
  {
   "cell_type": "markdown",
   "metadata": {},
   "source": [
    "# Project 1: Reverberation of rooms\n",
    "\n",
    "This is a projekt to work individually. The reports may be written in electronic format using Word, Latex, or even Jupyter. Hand in time is the first day of the recess week.\n",
    "\n",
    " \n",
    "## Objective\n",
    "Study the reverberation time of 2 rooms with an impulsive sound source and measure the reflection and decay of the signal. Room 1 should be a very reveberant room and room 2 as little echo as possible. Sketch the geometry of the room, the location of the sound source and the location of the microphone. \n",
    "\n",
    "1. Estimate the distance for the direct sound and the first reflection from the closest wall using your sketch of the room. Estimate for the travel times of the direct and first reflected sound with the temperature corrected speed of sound. Compare these estimates with the measurement. Can you identify reflections from different walls?\n",
    "2. Lookup the definition of *reverberation time*. Measure the reverberation time from your signals. Discuss the different reverberations times for the different rooms.\n",
    "3. Write a report of minimum 5 pages where you present your findings to the above questions, your methodology, add in pictures of the rooms. You need to provide references for all materials used.\n",
    "\n",
    "\n",
    "## Notes\n",
    "\n",
    "### Sound sources\n",
    "The shorter the duration of the impulsive sound source, the easier to distinquish the reflection. Exploding air balloon or paper bag or a loud clap with hands. \n",
    "\n",
    "### Software to record the sound\n",
    "\n",
    "You may use [Audacity](http://www.audacityteam.org/) for recording of the sound fields, cropping and exporting. Sure there are more ways to record audio\n",
    "\n",
    "### Software to plot/analyse the sound waves\n",
    "You may use matlab or python. Below is a sample script to read in a mono 16bit wav file from a clap recorded with audicity (mono) and exported.\n",
    "\n",
    "### Rooms\n",
    "Concert halls, recording studios, tutorial and class rooms should have little echoes, while churches, entrance halls, stair cases, and many rooms used in Singapore for the public demonstrate strong acoustic reflections."
   ]
  },
  {
   "cell_type": "code",
   "execution_count": 2,
   "metadata": {},
   "outputs": [
    {
     "data": {
      "image/png": "[encoded data removed]",
      "text/plain": [
       "<matplotlib.figure.Figure at 0x103b69c10>"
      ]
     },
     "metadata": {},
     "output_type": "display_data"
    }
   ],
   "source": [
    "#boilerplate to have the right functions available\n",
    "%matplotlib inline\n",
    "import matplotlib.pyplot as plt #plotting\n",
    "import numpy as np #array functions\n",
    "import wave #for loading audio files\n",
    "import warnings\n",
    "warnings.filterwarnings(\"ignore\")\n",
    "\n",
    "spf = wave.open('../data/clap.wav','r')\n",
    "\n",
    "#Extract Raw Audio from Wav File\n",
    "signal = spf.readframes(-1)\n",
    "signal = np.fromstring(signal, 'Int16')\n",
    "\n",
    "#generat a time axis\n",
    "time = np.linspace(0., float(signal.size)/spf.getframerate(), signal.size)\n",
    "\n",
    "#plot the signal\n",
    "plt.plot(time, signal)\n",
    "plt.xlabel(\"time (s)\")\n",
    "plt.ylabel(\"signal (a.u.)\");"
   ]
  },
  {
   "cell_type": "code",
   "execution_count": null,
   "metadata": {
    "collapsed": true
   },
   "outputs": [],
   "source": []
  }
 ],
 "metadata": {
  "kernelspec": {
   "display_name": "Python [default]",
   "language": "python",
   "name": "python2"
  },
  "language_info": {
   "codemirror_mode": {
    "name": "ipython",
    "version": 2
   },
   "file_extension": ".py",
   "mimetype": "text/x-python",
   "name": "python",
   "nbconvert_exporter": "python",
   "pygments_lexer": "ipython2",
   "version": "2.7.14"
  }
 },
 "nbformat": 4,
 "nbformat_minor": 1
}
