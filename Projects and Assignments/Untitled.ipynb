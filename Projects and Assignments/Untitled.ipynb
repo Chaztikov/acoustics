{
 "cells": [
  {
   "cell_type": "markdown",
   "metadata": {},
   "source": [
    "# Homework 1: Analysis of a sound field\n",
    "\n",
    "Hand in time is the first day of the recess week.\n",
    "\n",
    " \n",
    "## Wave emitted by a transducer \n",
    "\n",
    "<img src=\"../../../comsol/near_field_axisymmetric_new.png\" width=450> <p>\n",
    "<a id='fig1'><center> Figure 1 </center></a>\n",
    "\n",
    "Figure 1 is the result of the simulation of an acoustic wave emitted from a transducer. The wave is traveling\n",
    "through water, x and y are in meters, the pressure is stated in Pascal (maximum about 3000 Pa). The geometry is axisymmetric, i.e. it is a\n",
    "cross-section of the acoustic field emitted from a circular transducer located at y=0.\n",
    "\n",
    "1. Find the frequency of the wave from Figure 1? Estimate the Rayleigh length just from looking at figure 1.\n",
    "2. Estimate the size of the transducer in figure 1.\n",
    "3. Using the previous answer calculate and plot the acoustic pressure along the vertical axis x=0.\n",
    "4. Discuss your calculated graph with figure 1. This should include a comparison with and argument why or\n",
    "why not you see differences. Relate the findings with the lecture material.\n",
    "5. What is velocity of the sound source?\n"
   ]
  }
 ],
 "metadata": {
  "kernelspec": {
   "display_name": "Python 2",
   "language": "python",
   "name": "python2"
  },
  "language_info": {
   "codemirror_mode": {
    "name": "ipython",
    "version": 2
   },
   "file_extension": ".py",
   "mimetype": "text/x-python",
   "name": "python",
   "nbconvert_exporter": "python",
   "pygments_lexer": "ipython2",
   "version": "2.7.13"
  }
 },
 "nbformat": 4,
 "nbformat_minor": 2
}
