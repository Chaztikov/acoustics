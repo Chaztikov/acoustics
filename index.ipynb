{
 "cells": [
  {
   "cell_type": "markdown",
   "metadata": {},
   "source": [
    "# Some of the Features\n",
    "\n",
    "* Introduction\n",
    "  * Starting Jupyter\n",
    "  * Text formatting with [Markdown](markdown.ipynb)\n",
    "  * Combining text with programs and make a [lecture notebook](plotting functions.ipynb) for your students\n",
    "  \n",
    "* Kernels\n",
    "  * Python\n",
    "  * [R](R example.ipynb)\n",
    "  * [Julia](Julia Example Fractals.ipynb)\n",
    "  * and 50 more ...\n",
    "\n",
    "* Examples of interactive notebooks\n",
    "  * [Wave propagation](Wavesolver Diffraction.ipynb)\n",
    "  * [Sessile Droplet](Sessile Droplet.ipynb)\n",
    "  \n",
    "* Course notebook\n",
    "  * [Acoustics](lecture 7.ipynb) and converted into [pdf](lecture 7.pdf) with ```nbconvert```\n",
    "\n",
    "* Computer Science  \n",
    "  * [Graphics](ThreeJS WebGL.ipynb)\n",
    "  \n",
    "* Research Example\n",
    "  * [Ligo](ligo-quickview/index.ipynb)"
   ]
  },
  {
   "cell_type": "code",
   "execution_count": null,
   "metadata": {
    "collapsed": true
   },
   "outputs": [],
   "source": []
  }
 ],
 "metadata": {
  "kernelspec": {
   "display_name": "Python [default]",
   "language": "python",
   "name": "python2"
  },
  "language_info": {
   "codemirror_mode": {
    "name": "ipython",
    "version": 2
   },
   "file_extension": ".py",
   "mimetype": "text/x-python",
   "name": "python",
   "nbconvert_exporter": "python",
   "pygments_lexer": "ipython2",
   "version": "2.7.14"
  }
 },
 "nbformat": 4,
 "nbformat_minor": 1
}
